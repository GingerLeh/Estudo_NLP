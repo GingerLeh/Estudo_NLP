{
  "nbformat": 4,
  "nbformat_minor": 0,
  "metadata": {
    "colab": {
      "provenance": []
    },
    "kernelspec": {
      "name": "python3",
      "display_name": "Python 3"
    },
    "language_info": {
      "name": "python"
    }
  },
  "cells": [
    {
      "cell_type": "markdown",
      "source": [
        "# Apresentação de duas técnicas utilizadas em NLP.\n",
        "\n",
        "* Rotuladores\n",
        "* Stopwords"
      ],
      "metadata": {
        "id": "-UI3rPyuf5K4"
      }
    },
    {
      "cell_type": "code",
      "execution_count": 1,
      "metadata": {
        "id": "tEE9PE9Jftjv"
      },
      "outputs": [],
      "source": [
        "import nltk"
      ]
    },
    {
      "cell_type": "code",
      "source": [
        "texto = \"Processamento de língua natural (PLN) é uma subárea da ciência da computação, inteligência artificial e da linguística que estuda os problemas da geração e compreensão automática de línguas humanas naturais. Sistemas de geração de língua natural convertem informação de bancos de dados de computadores em linguagem compreensível ao ser humano e sistemas de compreensão de língua natural convertem ocorrências de linguagem humana em representações mais formais, mais facilmente manipuláveis por programas de computador. Alguns desafios do PLN são compreensão de língua natural, fazer com que computadores extraiam sentido de linguagem humana ou natural e geração de língua natural.\""
      ],
      "metadata": {
        "id": "HxXy65YlgGPI"
      },
      "execution_count": 2,
      "outputs": []
    },
    {
      "cell_type": "code",
      "source": [
        "texto"
      ],
      "metadata": {
        "colab": {
          "base_uri": "https://localhost:8080/",
          "height": 88
        },
        "id": "9qQlmSy5gNnQ",
        "outputId": "db7806d7-fa43-4c07-a2fc-386709e2020e"
      },
      "execution_count": 3,
      "outputs": [
        {
          "output_type": "execute_result",
          "data": {
            "text/plain": [
              "'Processamento de língua natural (PLN) é uma subárea da ciência da computação, inteligência artificial e da linguística que estuda os problemas da geração e compreensão automática de línguas humanas naturais. Sistemas de geração de língua natural convertem informação de bancos de dados de computadores em linguagem compreensível ao ser humano e sistemas de compreensão de língua natural convertem ocorrências de linguagem humana em representações mais formais, mais facilmente manipuláveis por programas de computador. Alguns desafios do PLN são compreensão de língua natural, fazer com que computadores extraiam sentido de linguagem humana ou natural e geração de língua natural.'"
            ],
            "application/vnd.google.colaboratory.intrinsic+json": {
              "type": "string"
            }
          },
          "metadata": {},
          "execution_count": 3
        }
      ]
    },
    {
      "cell_type": "markdown",
      "source": [
        "Quebrando o texto em tokens (palavras)"
      ],
      "metadata": {
        "id": "rgG1VqZPgU26"
      }
    },
    {
      "cell_type": "code",
      "source": [
        "nltk.download('punkt')"
      ],
      "metadata": {
        "colab": {
          "base_uri": "https://localhost:8080/"
        },
        "id": "JswQfD2gghie",
        "outputId": "bb8b9c08-a752-42a6-eb0b-1f35f27c1195"
      },
      "execution_count": 5,
      "outputs": [
        {
          "output_type": "stream",
          "name": "stderr",
          "text": [
            "[nltk_data] Downloading package punkt to /root/nltk_data...\n",
            "[nltk_data]   Unzipping tokenizers/punkt.zip.\n"
          ]
        },
        {
          "output_type": "execute_result",
          "data": {
            "text/plain": [
              "True"
            ]
          },
          "metadata": {},
          "execution_count": 5
        }
      ]
    },
    {
      "cell_type": "code",
      "source": [
        "tokens = nltk.tokenize.word_tokenize(texto)\n"
      ],
      "metadata": {
        "id": "thfYc6j9gRMv"
      },
      "execution_count": 6,
      "outputs": []
    },
    {
      "cell_type": "code",
      "source": [
        "tokens[0:10]"
      ],
      "metadata": {
        "colab": {
          "base_uri": "https://localhost:8080/"
        },
        "id": "-quDjWcVgfsL",
        "outputId": "58c44d4f-4c15-4ff7-ece2-6c35f1197990"
      },
      "execution_count": 8,
      "outputs": [
        {
          "output_type": "execute_result",
          "data": {
            "text/plain": [
              "['Processamento',\n",
              " 'de',\n",
              " 'língua',\n",
              " 'natural',\n",
              " '(',\n",
              " 'PLN',\n",
              " ')',\n",
              " 'é',\n",
              " 'uma',\n",
              " 'subárea']"
            ]
          },
          "metadata": {},
          "execution_count": 8
        }
      ]
    },
    {
      "cell_type": "code",
      "source": [
        "# Rotuladores => dar significado as palavras. "
      ],
      "metadata": {
        "id": "_TU1OfHGgkDn"
      },
      "execution_count": 9,
      "outputs": []
    },
    {
      "cell_type": "markdown",
      "source": [
        "Realizando a importação de conhecimento relacionado a rolutação de tokens/palavras\n",
        "* mac/morpho é um banco de dados que armazena uma análise morfológica da lingua portuguesa em textos do autor Machado de Assis. "
      ],
      "metadata": {
        "id": "q-C_IfwQhB6t"
      }
    },
    {
      "cell_type": "code",
      "source": [
        "nltk.download('mac_morpho')"
      ],
      "metadata": {
        "colab": {
          "base_uri": "https://localhost:8080/"
        },
        "id": "qVr8RFmbgzCK",
        "outputId": "7729dd21-e3aa-47f2-8847-4847db9c8dc3"
      },
      "execution_count": 10,
      "outputs": [
        {
          "output_type": "stream",
          "name": "stderr",
          "text": [
            "[nltk_data] Downloading package mac_morpho to /root/nltk_data...\n",
            "[nltk_data]   Unzipping corpora/mac_morpho.zip.\n"
          ]
        },
        {
          "output_type": "execute_result",
          "data": {
            "text/plain": [
              "True"
            ]
          },
          "metadata": {},
          "execution_count": 10
        }
      ]
    },
    {
      "cell_type": "code",
      "source": [
        "nltk.corpus.mac_morpho.tagged_words()"
      ],
      "metadata": {
        "colab": {
          "base_uri": "https://localhost:8080/"
        },
        "id": "yKKbJcXEhYFA",
        "outputId": "4b6f4882-a2a0-4490-9238-7b7befe41339"
      },
      "execution_count": 11,
      "outputs": [
        {
          "output_type": "execute_result",
          "data": {
            "text/plain": [
              "[('Jersei', 'N'), ('atinge', 'V'), ('média', 'N'), ...]"
            ]
          },
          "metadata": {},
          "execution_count": 11
        }
      ]
    },
    {
      "cell_type": "code",
      "source": [
        "train = nltk.corpus.mac_morpho.tagged_sents()\n",
        "train"
      ],
      "metadata": {
        "colab": {
          "base_uri": "https://localhost:8080/"
        },
        "id": "JNfyqS7qhdgs",
        "outputId": "bd6aeb0d-1c26-4619-9368-ebc5cadb775f"
      },
      "execution_count": 17,
      "outputs": [
        {
          "output_type": "execute_result",
          "data": {
            "text/plain": [
              "[[('Jersei', 'N'), ('atinge', 'V'), ('média', 'N'), ('de', 'PREP'), ('Cr$', 'CUR'), ('1,4', 'NUM'), ('milhão', 'N'), ('em', 'PREP|+'), ('a', 'ART'), ('venda', 'N'), ('de', 'PREP|+'), ('a', 'ART'), ('Pinhal', 'NPROP'), ('em', 'PREP'), ('São', 'NPROP'), ('Paulo', 'NPROP')], [('Programe', 'V'), ('sua', 'PROADJ'), ('viagem', 'N'), ('a', 'PREP|+'), ('a', 'ART'), ('Exposição', 'NPROP'), ('Nacional', 'NPROP'), ('do', 'NPROP'), ('Zebu', 'NPROP'), (',', ','), ('que', 'PRO-KS-REL'), ('começa', 'V'), ('dia', 'N'), ('25', 'N|AP')], ...]"
            ]
          },
          "metadata": {},
          "execution_count": 17
        }
      ]
    },
    {
      "cell_type": "markdown",
      "source": [
        "Criando um rotulador"
      ],
      "metadata": {
        "id": "WNWzSyvah0_r"
      }
    },
    {
      "cell_type": "code",
      "source": [
        "# Atribuindo default para as palavras.\n",
        "rotulador_padrao = nltk.DefaultTagger('desconhecido')"
      ],
      "metadata": {
        "id": "8-vRJ_xOhpXO"
      },
      "execution_count": 15,
      "outputs": []
    },
    {
      "cell_type": "code",
      "source": [
        "rotulador_padrao.tag(tokens)"
      ],
      "metadata": {
        "colab": {
          "base_uri": "https://localhost:8080/"
        },
        "id": "6HyIjixAh98-",
        "outputId": "ddec248c-6c7c-4287-8b43-52ed6af8f60e"
      },
      "execution_count": 14,
      "outputs": [
        {
          "output_type": "execute_result",
          "data": {
            "text/plain": [
              "[('Processamento', 'desconhecido'),\n",
              " ('de', 'desconhecido'),\n",
              " ('língua', 'desconhecido'),\n",
              " ('natural', 'desconhecido'),\n",
              " ('(', 'desconhecido'),\n",
              " ('PLN', 'desconhecido'),\n",
              " (')', 'desconhecido'),\n",
              " ('é', 'desconhecido'),\n",
              " ('uma', 'desconhecido'),\n",
              " ('subárea', 'desconhecido'),\n",
              " ('da', 'desconhecido'),\n",
              " ('ciência', 'desconhecido'),\n",
              " ('da', 'desconhecido'),\n",
              " ('computação', 'desconhecido'),\n",
              " (',', 'desconhecido'),\n",
              " ('inteligência', 'desconhecido'),\n",
              " ('artificial', 'desconhecido'),\n",
              " ('e', 'desconhecido'),\n",
              " ('da', 'desconhecido'),\n",
              " ('linguística', 'desconhecido'),\n",
              " ('que', 'desconhecido'),\n",
              " ('estuda', 'desconhecido'),\n",
              " ('os', 'desconhecido'),\n",
              " ('problemas', 'desconhecido'),\n",
              " ('da', 'desconhecido'),\n",
              " ('geração', 'desconhecido'),\n",
              " ('e', 'desconhecido'),\n",
              " ('compreensão', 'desconhecido'),\n",
              " ('automática', 'desconhecido'),\n",
              " ('de', 'desconhecido'),\n",
              " ('línguas', 'desconhecido'),\n",
              " ('humanas', 'desconhecido'),\n",
              " ('naturais', 'desconhecido'),\n",
              " ('.', 'desconhecido'),\n",
              " ('Sistemas', 'desconhecido'),\n",
              " ('de', 'desconhecido'),\n",
              " ('geração', 'desconhecido'),\n",
              " ('de', 'desconhecido'),\n",
              " ('língua', 'desconhecido'),\n",
              " ('natural', 'desconhecido'),\n",
              " ('convertem', 'desconhecido'),\n",
              " ('informação', 'desconhecido'),\n",
              " ('de', 'desconhecido'),\n",
              " ('bancos', 'desconhecido'),\n",
              " ('de', 'desconhecido'),\n",
              " ('dados', 'desconhecido'),\n",
              " ('de', 'desconhecido'),\n",
              " ('computadores', 'desconhecido'),\n",
              " ('em', 'desconhecido'),\n",
              " ('linguagem', 'desconhecido'),\n",
              " ('compreensível', 'desconhecido'),\n",
              " ('ao', 'desconhecido'),\n",
              " ('ser', 'desconhecido'),\n",
              " ('humano', 'desconhecido'),\n",
              " ('e', 'desconhecido'),\n",
              " ('sistemas', 'desconhecido'),\n",
              " ('de', 'desconhecido'),\n",
              " ('compreensão', 'desconhecido'),\n",
              " ('de', 'desconhecido'),\n",
              " ('língua', 'desconhecido'),\n",
              " ('natural', 'desconhecido'),\n",
              " ('convertem', 'desconhecido'),\n",
              " ('ocorrências', 'desconhecido'),\n",
              " ('de', 'desconhecido'),\n",
              " ('linguagem', 'desconhecido'),\n",
              " ('humana', 'desconhecido'),\n",
              " ('em', 'desconhecido'),\n",
              " ('representações', 'desconhecido'),\n",
              " ('mais', 'desconhecido'),\n",
              " ('formais', 'desconhecido'),\n",
              " (',', 'desconhecido'),\n",
              " ('mais', 'desconhecido'),\n",
              " ('facilmente', 'desconhecido'),\n",
              " ('manipuláveis', 'desconhecido'),\n",
              " ('por', 'desconhecido'),\n",
              " ('programas', 'desconhecido'),\n",
              " ('de', 'desconhecido'),\n",
              " ('computador', 'desconhecido'),\n",
              " ('.', 'desconhecido'),\n",
              " ('Alguns', 'desconhecido'),\n",
              " ('desafios', 'desconhecido'),\n",
              " ('do', 'desconhecido'),\n",
              " ('PLN', 'desconhecido'),\n",
              " ('são', 'desconhecido'),\n",
              " ('compreensão', 'desconhecido'),\n",
              " ('de', 'desconhecido'),\n",
              " ('língua', 'desconhecido'),\n",
              " ('natural', 'desconhecido'),\n",
              " (',', 'desconhecido'),\n",
              " ('fazer', 'desconhecido'),\n",
              " ('com', 'desconhecido'),\n",
              " ('que', 'desconhecido'),\n",
              " ('computadores', 'desconhecido'),\n",
              " ('extraiam', 'desconhecido'),\n",
              " ('sentido', 'desconhecido'),\n",
              " ('de', 'desconhecido'),\n",
              " ('linguagem', 'desconhecido'),\n",
              " ('humana', 'desconhecido'),\n",
              " ('ou', 'desconhecido'),\n",
              " ('natural', 'desconhecido'),\n",
              " ('e', 'desconhecido'),\n",
              " ('geração', 'desconhecido'),\n",
              " ('de', 'desconhecido'),\n",
              " ('língua', 'desconhecido'),\n",
              " ('natural', 'desconhecido'),\n",
              " ('.', 'desconhecido')]"
            ]
          },
          "metadata": {},
          "execution_count": 14
        }
      ]
    },
    {
      "cell_type": "markdown",
      "source": [
        "Criando um rotulador \"mais inteligente\", que aprende a rotular palavras com base em um banco de dados previamente existente."
      ],
      "metadata": {
        "id": "CQpKz5PoiZn0"
      }
    },
    {
      "cell_type": "code",
      "source": [
        "rotulador = nltk.UnigramTagger(train = train, backoff=rotulador_padrao)"
      ],
      "metadata": {
        "id": "2mFrc3VhiHZl"
      },
      "execution_count": 18,
      "outputs": []
    },
    {
      "cell_type": "code",
      "source": [
        "tokens_rotulados = rotulador.tag(tokens)"
      ],
      "metadata": {
        "id": "oAWSIwwJjf15"
      },
      "execution_count": 20,
      "outputs": []
    },
    {
      "cell_type": "code",
      "source": [
        "tokens_rotulados[0:20]"
      ],
      "metadata": {
        "colab": {
          "base_uri": "https://localhost:8080/"
        },
        "id": "TgWCnAHLjscX",
        "outputId": "1ee46ec2-1a19-44ed-81c1-45d7d2971ccf"
      },
      "execution_count": 23,
      "outputs": [
        {
          "output_type": "execute_result",
          "data": {
            "text/plain": [
              "[('Processamento', 'NPROP'),\n",
              " ('de', 'PREP'),\n",
              " ('língua', 'N'),\n",
              " ('natural', 'ADJ'),\n",
              " ('(', '('),\n",
              " ('PLN', 'desconhecido'),\n",
              " (')', ')'),\n",
              " ('é', 'V'),\n",
              " ('uma', 'ART'),\n",
              " ('subárea', 'desconhecido'),\n",
              " ('da', 'NPROP'),\n",
              " ('ciência', 'N'),\n",
              " ('da', 'NPROP'),\n",
              " ('computação', 'N'),\n",
              " (',', ','),\n",
              " ('inteligência', 'N'),\n",
              " ('artificial', 'ADJ'),\n",
              " ('e', 'KC'),\n",
              " ('da', 'NPROP'),\n",
              " ('linguística', 'ADJ')]"
            ]
          },
          "metadata": {},
          "execution_count": 23
        }
      ]
    },
    {
      "cell_type": "markdown",
      "source": [
        "# Stopwords"
      ],
      "metadata": {
        "id": "rz_4-2QmkHrn"
      }
    },
    {
      "cell_type": "code",
      "source": [
        "nltk.download('stopwords')"
      ],
      "metadata": {
        "colab": {
          "base_uri": "https://localhost:8080/"
        },
        "id": "77LzZSsBkdJS",
        "outputId": "81435610-5e0d-4802-b94e-7277469c2c19"
      },
      "execution_count": 26,
      "outputs": [
        {
          "output_type": "stream",
          "name": "stderr",
          "text": [
            "[nltk_data] Downloading package stopwords to /root/nltk_data...\n",
            "[nltk_data]   Unzipping corpora/stopwords.zip.\n"
          ]
        },
        {
          "output_type": "execute_result",
          "data": {
            "text/plain": [
              "True"
            ]
          },
          "metadata": {},
          "execution_count": 26
        }
      ]
    },
    {
      "cell_type": "code",
      "source": [
        "palavras_proibidas = nltk.corpus.stopwords.words('portuguese')"
      ],
      "metadata": {
        "id": "nniqxamJj-r8"
      },
      "execution_count": 28,
      "outputs": []
    },
    {
      "cell_type": "code",
      "source": [
        "palavras_proibidas.extend(['.',',','?','!', '(',')', ':','-','—'])"
      ],
      "metadata": {
        "id": "I4dqKyl6kYv5"
      },
      "execution_count": 58,
      "outputs": []
    },
    {
      "cell_type": "markdown",
      "source": [
        "Eliminando palavras que não interessam, utilizando as stopwords. "
      ],
      "metadata": {
        "id": "vD2MzbBylUvo"
      }
    },
    {
      "cell_type": "code",
      "source": [
        "tokens = [token for token in tokens if token not in palavras_proibidas]"
      ],
      "metadata": {
        "id": "lgijpHo5lPKb"
      },
      "execution_count": 36,
      "outputs": []
    },
    {
      "cell_type": "code",
      "source": [
        "tokens"
      ],
      "metadata": {
        "colab": {
          "base_uri": "https://localhost:8080/"
        },
        "id": "f4HOzFq7lF7P",
        "outputId": "dba80431-7215-45ab-c59e-f272ee09af13"
      },
      "execution_count": 37,
      "outputs": [
        {
          "output_type": "execute_result",
          "data": {
            "text/plain": [
              "['Processamento',\n",
              " 'língua',\n",
              " 'natural',\n",
              " 'PLN',\n",
              " 'subárea',\n",
              " 'ciência',\n",
              " 'computação',\n",
              " 'inteligência',\n",
              " 'artificial',\n",
              " 'linguística',\n",
              " 'estuda',\n",
              " 'problemas',\n",
              " 'geração',\n",
              " 'compreensão',\n",
              " 'automática',\n",
              " 'línguas',\n",
              " 'humanas',\n",
              " 'naturais',\n",
              " 'Sistemas',\n",
              " 'geração',\n",
              " 'língua',\n",
              " 'natural',\n",
              " 'convertem',\n",
              " 'informação',\n",
              " 'bancos',\n",
              " 'dados',\n",
              " 'computadores',\n",
              " 'linguagem',\n",
              " 'compreensível',\n",
              " 'humano',\n",
              " 'sistemas',\n",
              " 'compreensão',\n",
              " 'língua',\n",
              " 'natural',\n",
              " 'convertem',\n",
              " 'ocorrências',\n",
              " 'linguagem',\n",
              " 'humana',\n",
              " 'representações',\n",
              " 'formais',\n",
              " 'facilmente',\n",
              " 'manipuláveis',\n",
              " 'programas',\n",
              " 'computador',\n",
              " 'Alguns',\n",
              " 'desafios',\n",
              " 'PLN',\n",
              " 'compreensão',\n",
              " 'língua',\n",
              " 'natural',\n",
              " 'fazer',\n",
              " 'computadores',\n",
              " 'extraiam',\n",
              " 'sentido',\n",
              " 'linguagem',\n",
              " 'humana',\n",
              " 'natural',\n",
              " 'geração',\n",
              " 'língua',\n",
              " 'natural']"
            ]
          },
          "metadata": {},
          "execution_count": 37
        }
      ]
    },
    {
      "cell_type": "code",
      "source": [
        "tokens_rotulados = rotulador.tag(tokens)"
      ],
      "metadata": {
        "id": "iChFl4uWlfNp"
      },
      "execution_count": 38,
      "outputs": []
    },
    {
      "cell_type": "code",
      "source": [
        "tokens_rotulados"
      ],
      "metadata": {
        "colab": {
          "base_uri": "https://localhost:8080/"
        },
        "id": "mjbP4EtIl4S3",
        "outputId": "5005b789-2784-4760-d1c8-7efad52fd100"
      },
      "execution_count": 39,
      "outputs": [
        {
          "output_type": "execute_result",
          "data": {
            "text/plain": [
              "[('Processamento', 'NPROP'),\n",
              " ('língua', 'N'),\n",
              " ('natural', 'ADJ'),\n",
              " ('PLN', 'desconhecido'),\n",
              " ('subárea', 'desconhecido'),\n",
              " ('ciência', 'N'),\n",
              " ('computação', 'N'),\n",
              " ('inteligência', 'N'),\n",
              " ('artificial', 'ADJ'),\n",
              " ('linguística', 'ADJ'),\n",
              " ('estuda', 'V'),\n",
              " ('problemas', 'N'),\n",
              " ('geração', 'N'),\n",
              " ('compreensão', 'N'),\n",
              " ('automática', 'ADJ'),\n",
              " ('línguas', 'N'),\n",
              " ('humanas', 'ADJ'),\n",
              " ('naturais', 'ADJ'),\n",
              " ('Sistemas', 'NPROP'),\n",
              " ('geração', 'N'),\n",
              " ('língua', 'N'),\n",
              " ('natural', 'ADJ'),\n",
              " ('convertem', 'V'),\n",
              " ('informação', 'N'),\n",
              " ('bancos', 'N'),\n",
              " ('dados', 'N'),\n",
              " ('computadores', 'N'),\n",
              " ('linguagem', 'N'),\n",
              " ('compreensível', 'ADJ'),\n",
              " ('humano', 'ADJ'),\n",
              " ('sistemas', 'N'),\n",
              " ('compreensão', 'N'),\n",
              " ('língua', 'N'),\n",
              " ('natural', 'ADJ'),\n",
              " ('convertem', 'V'),\n",
              " ('ocorrências', 'N'),\n",
              " ('linguagem', 'N'),\n",
              " ('humana', 'ADJ'),\n",
              " ('representações', 'N'),\n",
              " ('formais', 'ADJ'),\n",
              " ('facilmente', 'ADV'),\n",
              " ('manipuláveis', 'desconhecido'),\n",
              " ('programas', 'N'),\n",
              " ('computador', 'N'),\n",
              " ('Alguns', 'PROADJ'),\n",
              " ('desafios', 'N'),\n",
              " ('PLN', 'desconhecido'),\n",
              " ('compreensão', 'N'),\n",
              " ('língua', 'N'),\n",
              " ('natural', 'ADJ'),\n",
              " ('fazer', 'V'),\n",
              " ('computadores', 'N'),\n",
              " ('extraiam', 'desconhecido'),\n",
              " ('sentido', 'N'),\n",
              " ('linguagem', 'N'),\n",
              " ('humana', 'ADJ'),\n",
              " ('natural', 'ADJ'),\n",
              " ('geração', 'N'),\n",
              " ('língua', 'N'),\n",
              " ('natural', 'ADJ')]"
            ]
          },
          "metadata": {},
          "execution_count": 39
        }
      ]
    },
    {
      "cell_type": "markdown",
      "source": [
        "Objetivo: Extrair as ações de um texto qualquer. \n",
        "* Lembrando que ação é sempre representada por um verbo da lingua portuguesa. \n",
        "* Solução está em identifiar os verbos no texto informado. "
      ],
      "metadata": {
        "id": "sPHFM84RmSAJ"
      }
    },
    {
      "cell_type": "code",
      "source": [
        "for tokens_rotulado in tokens_rotulados: \n",
        "  if tokens_rotulado[1] == 'V': \n",
        "    print(tokens_rotulado[0])"
      ],
      "metadata": {
        "colab": {
          "base_uri": "https://localhost:8080/"
        },
        "id": "-hi3R4vUl6En",
        "outputId": "87871b37-6a99-4bba-ccb5-2b566f65b2fb"
      },
      "execution_count": 40,
      "outputs": [
        {
          "output_type": "stream",
          "name": "stdout",
          "text": [
            "estuda\n",
            "convertem\n",
            "convertem\n",
            "fazer\n"
          ]
        }
      ]
    },
    {
      "cell_type": "code",
      "source": [
        "fabula = \"Enquanto a formiga trabalhava, recolhendo alimentos durante o verão inteiro, sua companheira cigarra estava mais preocupada em cantar.Quando chegou o frio e a chuva do inverno, a primeira tinha garantido o seu sustento. Já a segunda não tinha o que comer.Foi aí que a cigarra procurou a formiga, pedindo que dividisse com ela aquilo que recolheu. A formiga respondeu:— Você não passou o verão todo cantando, enquanto eu trabalhava? Então agora se vire sozinha.Moral: Precisamos ser independentes e garantir o nosso futuro, sem depender do trabalho dos outros.\""
      ],
      "metadata": {
        "id": "amnZKI8Lm2O_"
      },
      "execution_count": 59,
      "outputs": []
    },
    {
      "cell_type": "code",
      "source": [
        "tokens_fabula = nltk.tokenize.word_tokenize(fabula)"
      ],
      "metadata": {
        "id": "sqsI_1Jynw-k"
      },
      "execution_count": 60,
      "outputs": []
    },
    {
      "cell_type": "code",
      "source": [
        "tokens_fabula = [token for token in tokens_fabula if token not in palavras_proibidas]"
      ],
      "metadata": {
        "id": "gTgZKszMn6A_"
      },
      "execution_count": 61,
      "outputs": []
    },
    {
      "cell_type": "code",
      "source": [
        "tokens_rotulados_fabula = rotulador.tag(tokens_fabula)"
      ],
      "metadata": {
        "id": "JzwcLx3AoD7G"
      },
      "execution_count": 62,
      "outputs": []
    },
    {
      "cell_type": "code",
      "source": [
        "tokens_rotulados_fabula"
      ],
      "metadata": {
        "colab": {
          "base_uri": "https://localhost:8080/"
        },
        "id": "2VF9nZUcoKX1",
        "outputId": "44523a4d-4521-43b6-b083-0284ffc8cc5f"
      },
      "execution_count": 63,
      "outputs": [
        {
          "output_type": "execute_result",
          "data": {
            "text/plain": [
              "[('Enquanto', 'KS'),\n",
              " ('formiga', 'N'),\n",
              " ('trabalhava', 'V'),\n",
              " ('recolhendo', 'V'),\n",
              " ('alimentos', 'N'),\n",
              " ('durante', 'PREP'),\n",
              " ('verão', 'N'),\n",
              " ('inteiro', 'ADJ'),\n",
              " ('companheira', 'N'),\n",
              " ('cigarra', 'desconhecido'),\n",
              " ('preocupada', 'PCP'),\n",
              " ('cantar.Quando', 'desconhecido'),\n",
              " ('chegou', 'V'),\n",
              " ('frio', 'N'),\n",
              " ('chuva', 'N'),\n",
              " ('inverno', 'N'),\n",
              " ('primeira', 'ADJ'),\n",
              " ('garantido', 'PCP'),\n",
              " ('sustento', 'N'),\n",
              " ('Já', 'ADV'),\n",
              " ('segunda', 'ADJ'),\n",
              " ('comer.Foi', 'desconhecido'),\n",
              " ('aí', 'ADV'),\n",
              " ('cigarra', 'desconhecido'),\n",
              " ('procurou', 'V'),\n",
              " ('formiga', 'N'),\n",
              " ('pedindo', 'V'),\n",
              " ('dividisse', 'desconhecido'),\n",
              " ('recolheu', 'V'),\n",
              " ('A', 'ART'),\n",
              " ('formiga', 'N'),\n",
              " ('respondeu', 'V'),\n",
              " ('Você', 'PROPESS'),\n",
              " ('passou', 'V'),\n",
              " ('verão', 'N'),\n",
              " ('todo', 'PROADJ'),\n",
              " ('cantando', 'V'),\n",
              " ('enquanto', 'KS'),\n",
              " ('trabalhava', 'V'),\n",
              " ('Então', 'ADV'),\n",
              " ('agora', 'ADV'),\n",
              " ('vire', 'V'),\n",
              " ('sozinha.Moral', 'desconhecido'),\n",
              " ('Precisamos', 'V'),\n",
              " ('independentes', 'ADJ'),\n",
              " ('garantir', 'V'),\n",
              " ('futuro', 'N'),\n",
              " ('depender', 'V'),\n",
              " ('trabalho', 'N'),\n",
              " ('outros', 'PROADJ')]"
            ]
          },
          "metadata": {},
          "execution_count": 63
        }
      ]
    },
    {
      "cell_type": "markdown",
      "source": [
        "Dado o texto, extraia os adjetivos. "
      ],
      "metadata": {
        "id": "V2biuoiTo-Mj"
      }
    },
    {
      "cell_type": "code",
      "source": [
        "for tokens_rotulado in tokens_rotulados_fabula: \n",
        "  if tokens_rotulado[1] == 'ADJ': \n",
        "    print(tokens_rotulado[0])"
      ],
      "metadata": {
        "colab": {
          "base_uri": "https://localhost:8080/"
        },
        "id": "1sC2DOdLoj3x",
        "outputId": "e3469751-dacc-4082-828a-ba6837d71779"
      },
      "execution_count": 65,
      "outputs": [
        {
          "output_type": "stream",
          "name": "stdout",
          "text": [
            "inteiro\n",
            "primeira\n",
            "segunda\n",
            "independentes\n"
          ]
        }
      ]
    },
    {
      "cell_type": "code",
      "source": [],
      "metadata": {
        "id": "ffoderPppDL9"
      },
      "execution_count": null,
      "outputs": []
    }
  ]
}